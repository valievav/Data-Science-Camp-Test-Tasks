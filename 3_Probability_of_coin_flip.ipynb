{
  "nbformat": 4,
  "nbformat_minor": 0,
  "metadata": {
    "colab": {
      "provenance": [],
      "authorship_tag": "ABX9TyMhJ4rP2dK4BZWTgQmZDR3P",
      "include_colab_link": true
    },
    "kernelspec": {
      "name": "python3",
      "display_name": "Python 3"
    },
    "language_info": {
      "name": "python"
    }
  },
  "cells": [
    {
      "cell_type": "markdown",
      "metadata": {
        "id": "view-in-github",
        "colab_type": "text"
      },
      "source": [
        "<a href=\"https://colab.research.google.com/github/valievav/Data-Science-Camp-Test-Tasks/blob/main/3_Probability_of_coin_flip.ipynb\" target=\"_parent\"><img src=\"https://colab.research.google.com/assets/colab-badge.svg\" alt=\"Open In Colab\"/></a>"
      ]
    },
    {
      "cell_type": "markdown",
      "source": [
        "**Task 3**\n",
        "\n",
        "The probability of outcome ‘H’ (‘Head’) at flipping each of the 5 coins (call\n",
        "them m1, m2, m3, m4, m5) with a changed center of gravity equal [0.8, 0.9,\n",
        "0.1, 0.2, 0.3] respectively. One of the coins was chosen at random and the\n",
        "tests began.\n",
        "\n",
        "Determine the probability of ‘H’ in the next flip after 9 of the\n",
        "actual tests: [H T H H H T T H H] (here ‘T’(‘Tail’) is opposite side of the\n",
        "coin).\n",
        "For example, before the first test, the probability of \"H\" is 0.46 (according to\n",
        "the formula of full probability, taking into account the equivalence of the\n",
        "choice of one of the available coins). After the flip of ‘H’ in the first test, the\n",
        "probability of the hypothesis that the selected coin is m3 / m4 / m5\n",
        "decreased, and probabilities of hypothesis that m1 / m2, increased\n",
        "compared to initial 0.2 probability for each coin.\n",
        "Therefore, the probability to flip ‘H’ in the next test now equals to ~ 0.69.\n",
        "Similarly, after the evidence of ‘T’ in the next test, you need to re-compute\n",
        "the probability of flipping ‘H’ in the third flip, etc.\n",
        "\n",
        "\n",
        "Response format:\n",
        "\n",
        "● list of probabilities to the nearest hundredth [0.69,?,? ,?,?,?,?,?,?]\n",
        "(replace ‘?’ with the appropriate values)\n",
        "\n",
        "● Program code, or description"
      ],
      "metadata": {
        "id": "39FuCpRVngPb"
      }
    },
    {
      "cell_type": "code",
      "source": [
        "# Bayesian probability\n",
        "\n",
        "import numpy as np\n",
        "\n",
        "\n",
        "def get_probability_after_flip(priors, flip, coin_probs):\n",
        "  \"\"\"\n",
        "  Return new probabilities for each coin to be chosen for the flip sequence\n",
        "  \"\"\"\n",
        "  likelihood = coin_probs if flip == 'H' else np.array([1 - coin_probs[i] for i in range(len(coin_probs))])\n",
        "  new_priors = priors * likelihood\n",
        "  new_priors /= new_priors.sum()  # normalize values\n",
        "  return new_priors\n",
        "\n",
        "\n",
        "def calculate_probability(flip_sequence, coin_probs):\n",
        "  \"\"\"\n",
        "  Calculate probability of the coin flipping outcome\n",
        "  \"\"\"\n",
        "  # initial probability for each coin that it was chosen is equal\n",
        "  priors = len(coin_probs) * [1/len(coin_probs)]\n",
        "  # general probability between coins on next flip\n",
        "  prob_next_flip = []\n",
        "\n",
        "  for flip in flip_sequence:\n",
        "      # get probability before the flip\n",
        "      prob = np.dot(priors, coin_probs)  # weighted sum\n",
        "      prob_next_flip.append(round(prob, 2))\n",
        "\n",
        "      # update probability that coin is chosen based on the flip result\n",
        "      priors = get_probability_after_flip(priors, flip, coin_probs)\n",
        "\n",
        "  return prob_next_flip\n",
        "\n",
        "\n",
        "# probabilities of H flip for each coin\n",
        "coin_probs = np.array([0.8, 0.9, 0.1, 0.2, 0.3])\n",
        "# some coin was chosen for the test with next flip sequence\n",
        "flip_sequence = ['H', 'T', 'H', 'H', 'H', 'T', 'T', 'H', 'H']\n",
        "\n",
        "# calc probability on flips\n",
        "result = calculate_probability(flip_sequence, coin_probs)\n",
        "print(result)\n"
      ],
      "metadata": {
        "colab": {
          "base_uri": "https://localhost:8080/"
        },
        "id": "pDW8K6RrzJ3i",
        "outputId": "6939f638-ee82-4c0b-d39c-ba80d72ac14a"
      },
      "execution_count": 1,
      "outputs": [
        {
          "output_type": "stream",
          "name": "stdout",
          "text": [
            "[0.46, 0.69, 0.44, 0.64, 0.77, 0.82, 0.73, 0.55, 0.69]\n"
          ]
        }
      ]
    }
  ]
}